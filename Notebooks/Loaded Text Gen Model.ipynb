{
 "cells": [
  {
   "cell_type": "code",
   "execution_count": 2,
   "metadata": {},
   "outputs": [],
   "source": [
    "from tensorflow import keras\n",
    "import numpy as np\n",
    "import tensorflow as tf\n",
    "import pickle\n",
    "import warnings\n",
    "warnings.filterwarnings(action='once')\n",
    "\n",
    "\n",
    "with open('models/tokenizer_magyar.pickle', 'rb') as handle:\n",
    "    tokenizer = pickle.load(handle)\n",
    "\n",
    "models = {\"Petőfi Sándor\": tf.keras.models.load_model('models/petofi_összes.mdl_wts.hdf5'),\n",
    "          \"Babits Mihály\": tf.keras.models.load_model('models/babits_összes.mdl_wts.hdf5'),\n",
    "          \"Karinthy Frigyes\": tf.keras.models.load_model('models/karinthy_összes.mdl_wts.hdf5')}\n",
    "\n",
    "    \n",
    "tf.random.set_seed(42)\n",
    "\n",
    "def complete_text(text, model_name, n_chars=50, temperature=1):\n",
    "    model = models[model_name]\n",
    "    def preprocess(texts):\n",
    "        X = np.array(tokenizer.texts_to_sequences(texts)) - 1\n",
    "        return tf.one_hot(X, 52)\n",
    "\n",
    "    def next_char(text, temperature=1):\n",
    "        X_new = preprocess([text])\n",
    "        y_proba = model.predict(X_new)[0, -1:, :]\n",
    "        rescaled_logits = tf.math.log(y_proba) / temperature\n",
    "        char_id = tf.random.categorical(rescaled_logits, num_samples=1) + 1\n",
    "        return tokenizer.sequences_to_texts(char_id.numpy())[0]\n",
    "    \n",
    "    \n",
    "    for _ in range(n_chars):\n",
    "        text += next_char(text, temperature)\n",
    "    return text"
   ]
  },
  {
   "cell_type": "code",
   "execution_count": 9,
   "metadata": {},
   "outputs": [],
   "source": [
    "a = complete_text(\"Zsuzsanna \",n_chars=100 ,temperature=0.5, model_name=\"Petőfi Sándor\")\n",
    "b = complete_text(\"Zsuzsanna \",n_chars=100 ,temperature=0.5, model_name=\"Babits Mihály\")\n",
    "c = complete_text(\"Zsuzsanna \",n_chars=100 ,temperature=0.5, model_name=\"Karinthy Frigyes\")"
   ]
  },
  {
   "cell_type": "code",
   "execution_count": 10,
   "metadata": {},
   "outputs": [
    {
     "data": {
      "text/plain": [
       "('Zsuzsanna fekete.hogy a királyi szerelmem szegény ellennézem nem lesz a nap itt egy istent lett az oldalásba, ',\n",
       " 'Zsuzsanna alig egyicsotász, kivigyegettfested, ilathond a falunk mind nem tudja,kincs felhőtet egényet a hajda',\n",
       " 'Zsuzsanna volt a szép lett s a másik: te van, mint akartani rozsdás dalolj nyelve a napból el a szemekkel a re')"
      ]
     },
     "execution_count": 10,
     "metadata": {},
     "output_type": "execute_result"
    }
   ],
   "source": [
    "a,b,c"
   ]
  }
 ],
 "metadata": {
  "kernelspec": {
   "display_name": "Python 3",
   "language": "python",
   "name": "python3"
  },
  "language_info": {
   "codemirror_mode": {
    "name": "ipython",
    "version": 3
   },
   "file_extension": ".py",
   "mimetype": "text/x-python",
   "name": "python",
   "nbconvert_exporter": "python",
   "pygments_lexer": "ipython3",
   "version": "3.6.10"
  }
 },
 "nbformat": 4,
 "nbformat_minor": 2
}
